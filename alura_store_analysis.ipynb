 import pandas as pd
 import matplotlib.pyplot as plt
 ```
 store1 = pd.read_csv('store1.csv')
 store2 = pd.read_csv('store2.csv')
 store3 = pd.read_csv('store3.csv')
 store4 = pd.read_csv('store4.csv')
 ```
 # Ingreso total por tienda
 ingresos = {
     'Tienda 1': store1['Precio'].sum(),
     'Tienda 2': store2['Precio'].sum(),
     'Tienda 3': store3['Precio'].sum(),
     'Tienda 4': store4['Precio'].sum()
 }

 for tienda, ingreso in ingresos.items():
     print(f"{tienda}: ${ingreso:,.2f}")

 # Ventas por categoría
 ventas_categoria_store1 = store1.groupby('Categoría')['Producto'].count()
 ventas_categoria_store2 = store2.groupby('Categoría')['Producto'].count()
 ventas_categoria_store3 = store3.groupby('Categoría')['Producto'].count()
 ventas_categoria_store4 = store4.groupby('Categoría')['Producto'].count()

 print(ventas_categoria_store1)
 print(ventas_categoria_store2)
 print(ventas_categoria_store3)
 print(ventas_categoria_store4)

 # Valoración media por tienda
 valoracion_media_store1 = store1['Evaluación'].mean()
 valoracion_media_store2 = store2['Evaluación'].mean()
 valoracion_media_store3 = store3['Evaluación'].mean()
 valoracion_media_store4 = store4['Evaluación'].mean()

 print(f"Valoración media Tienda 1: {valoracion_media_store1:.2f}")
 print(f"Valoración media Tienda 2: {valoracion_media_store2:.2f}")
 print(f"Valoración media Tienda 3: {valoracion_media_store3:.2f}")
 print(f"Valoración media Tienda 4: {valoracion_media_store4:.2f}")

 # Productos más vendidos y menos vendidos
 productos_mas_vendidos_store1 = store1['Producto'].value_counts().head(10)
 productos_menos_vendidos_store1 = store1['Producto'].value_counts().tail(10)

 productos_mas_vendidos_store2 = store2['Producto'].value_counts().head(10)
 productos_menos_vendidos_store2 = store2['Producto'].value_counts().tail(10)

 productos_mas_vendidos_store3 = store3['Producto'].value_counts().head(10)
 productos_menos_vendidos_store3 = store3['Producto'].value_counts().tail(10)

 productos_mas_vendidos_store4 = store4['Producto'].value_counts().head(10)
 productos_menos_vendidos_store4 = store4['Producto'].value_counts().tail(10)

 print(productos_mas_vendidos_store1)
 print(productos_menos_vendidos_store1)
 print(productos_mas_vendidos_store2)
 print(productos_menos_vendidos_store2)
 print(productos_mas_vendidos_store3)
 print(productos_menos_vendidos_store3)
 print(productos_mas_vendidos_store4)
 print(productos_menos_vendidos_store4)

 # Valor del envío promedio por tienda
 envio_promedio_store1 = store1['Envío'].mean()
 envio_promedio_store2 = store2['Envío'].mean()
 envio_promedio_store3 = store3['Envío'].mean()
 envio_promedio_store4 = store4['Envío'].mean()

 print(f"Envío promedio Tienda 1: ${envio_promedio_store1:.2f}")
 print(f"Envío promedio Tienda 2: ${envio_promedio_store2:.2f}")
 print(f"Envío promedio Tienda 3: ${envio_promedio_store3:.2f}")
 print(f"Envío promedio Tienda 4: ${envio_promedio_store4:.2f}")
 ```
 # Gráfico de barras para ingresos
 tiendas = list(ingresos.keys())
 valores_ingresos = list(ingresos.values())

 plt.bar(tiendas, valores_ingresos)
 plt.xlabel('Tiendas')
 plt.ylabel('Ingresos')
 plt.title('Ingresos Totales por Tienda')
 plt.show()

 # Gráfico circular para ventas por categoría
 ventas_categoria_store1.plot(kind='pie', autopct='%1.1f%%')
 plt.title('Ventas por Categoría - Tienda 1')
 plt.show()

 # Gráfico de dispersión para valoración media
 valoraciones = [valoracion_media_store1, valoracion_media_store2, valoracion_media_store3, valoracion_media_store4]
 plt.scatter(tiendas, valoraciones)
 plt.xlabel('Tiendas')
 plt.ylabel('Valoración Media')
 plt.title('Valoración Media por Tienda')
 plt.show()
 ```